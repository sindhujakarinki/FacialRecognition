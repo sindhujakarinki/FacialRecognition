{
 "cells": [
  {
   "cell_type": "code",
   "execution_count": 1,
   "id": "f3f2c80e",
   "metadata": {},
   "outputs": [
    {
     "name": "stdout",
     "output_type": "stream",
     "text": [
      "Requirement already satisfied: opencv-python in c:\\users\\jyotsnavi\\anaconda3\\lib\\site-packages (4.6.0.66)Note: you may need to restart the kernel to use updated packages.\n",
      "\n",
      "Requirement already satisfied: numpy>=1.14.5 in c:\\users\\jyotsnavi\\anaconda3\\lib\\site-packages (from opencv-python) (1.20.3)\n"
     ]
    }
   ],
   "source": [
    "pip install opencv-python"
   ]
  },
  {
   "cell_type": "code",
   "execution_count": 2,
   "id": "69d50e11",
   "metadata": {},
   "outputs": [],
   "source": [
    "\n",
    "import cv2 as cv\n",
    "import numpy as np\n",
    "import matplotlib.pyplot as plt\n",
    "%matplotlib inline"
   ]
  },
  {
   "cell_type": "code",
   "execution_count": 5,
   "id": "49e90326",
   "metadata": {},
   "outputs": [
    {
     "data": {
      "text/plain": [
       "-1"
      ]
     },
     "execution_count": 5,
     "metadata": {},
     "output_type": "execute_result"
    }
   ],
   "source": [
    "#reading image\n",
    "img2=cv.imread(r\"C:\\Users\\jyotsnavi\\Pictures\\josh\\f61211e728a482f9db43e841ebe8a01e.jpg\")\n",
    "cv.imshow('mj',img2)\n",
    "cv.waitKey(60)"
   ]
  },
  {
   "cell_type": "code",
   "execution_count": 6,
   "id": "67a47deb",
   "metadata": {},
   "outputs": [],
   "source": [
    "cv.destroyAllWindows()"
   ]
  },
  {
   "cell_type": "code",
   "execution_count": null,
   "id": "069f6db6",
   "metadata": {},
   "outputs": [],
   "source": []
  },
  {
   "cell_type": "code",
   "execution_count": null,
   "id": "41f4303c",
   "metadata": {},
   "outputs": [],
   "source": [
    "#reading videos\n",
    "capture=cv.VideoCapture(r\"C:\\Users\\jyotsnavi\\Downloads\\Dubstep Bird (Original 5 Sec Video).mp4\")\n",
    "while True:\n",
    "    isTrue,frame=capture.read()\n",
    "    if not isTrue:\n",
    "        break\n",
    "    cv.imshow('video',frame)\n",
    "    if cv.waitKey(20) & 0xFF==ord('d'):\n",
    "        break\n",
    "capture.release()"
   ]
  },
  {
   "cell_type": "code",
   "execution_count": null,
   "id": "133adcfe",
   "metadata": {},
   "outputs": [],
   "source": [
    "cv.destroyAllWindows()\n",
    "cv.waitKey(60)"
   ]
  },
  {
   "cell_type": "code",
   "execution_count": null,
   "id": "1bac983a",
   "metadata": {},
   "outputs": [],
   "source": [
    "#resizing image and video\n",
    "def rescaleFrame(frame,scale):\n",
    "    #image,videos and live video\n",
    "    width=int(frame.shape[1]*scale)\n",
    "    height=int(frame.shape[0]*scale)\n",
    "    dimensions=(width,height)\n",
    "    return cv.resize(frame,dimensions,interpolation=cv.INTER_AREA)\n",
    "def changeRes(width,height):\n",
    "    #live video\n",
    "    capture.set(3,width)\n",
    "    capture.set(4,height)\n",
    "#reading videos\n",
    "capture=cv.VideoCapture(r\"C:\\Users\\jyotsnavi\\Downloads\\Dubstep Bird (Original 5 Sec Video).mp4\")\n",
    "while True:\n",
    "    isTrue,frame=capture.read()\n",
    "    if not isTrue:\n",
    "        break\n",
    "    frame_resized=rescaleFrame(frame,scale=.5)\n",
    "    cv.imshow('video',frame)\n",
    "    cv.imshow('video Resized',frame_resized)\n",
    "    if cv.waitKey(20)& 0xf==ord('d'):\n",
    "        break\n",
    "capture.release()\n",
    "    \n",
    "    "
   ]
  },
  {
   "cell_type": "code",
   "execution_count": 15,
   "id": "8821d1d9",
   "metadata": {},
   "outputs": [],
   "source": [
    "#drawing with open cv\n",
    "blank=np.zeros((500,500,3),dtype='uint8')\n",
    "cv.imshow('Blank',blank)"
   ]
  },
  {
   "cell_type": "code",
   "execution_count": null,
   "id": "e78357d9",
   "metadata": {},
   "outputs": [],
   "source": []
  },
  {
   "cell_type": "code",
   "execution_count": null,
   "id": "5f608977",
   "metadata": {},
   "outputs": [],
   "source": [
    "cv.destroyAllWindows()\n",
    "cv.waitKey(60)"
   ]
  },
  {
   "cell_type": "code",
   "execution_count": null,
   "id": "e88c73cf",
   "metadata": {},
   "outputs": [],
   "source": [
    "#2.green box\n",
    "blank[200:300,300:400]=0,0,255\n",
    "cv.imshow('Blank',blank)\n",
    "cv.waitKey(60)"
   ]
  },
  {
   "cell_type": "code",
   "execution_count": null,
   "id": "f878b0dd",
   "metadata": {},
   "outputs": [],
   "source": [
    "#draw a rectangle\n",
    "cv.rectangle(blank,(0,0),\n",
    "             (blank.shape[1]//2,\n",
    "              blank.shape[0]//2),\n",
    "              (0,255,0),thickness=-1)\n",
    "cv.imshow('Rectangle',blank)\n",
    "cv.waitKey(60)"
   ]
  },
  {
   "cell_type": "code",
   "execution_count": null,
   "id": "02cfab63",
   "metadata": {},
   "outputs": [],
   "source": [
    "#3.draw a circle\n",
    "cv.circle(blank,(blank.shape[1]//2,\n",
    "                 blank.shape[0]//2),\n",
    "          40,(0,0,255),thickness=-1)\n",
    "cv.imshow('circle',blank)\n",
    "#4.draw line\n",
    "cv.line(blank,(100,250),(300,400),\n",
    "        (255,255,255),thickness=3)\n",
    "cv.imshow('line',blank)\n",
    "#write text\n",
    "cv.putText(blank,'hello my name is sindhu!!',\n",
    "          (0,255),\n",
    "          cv.FONT_HERSHEY_TRIPLEX,1.0,(0,255,0),2)\n",
    "cv.imshow('text',blank)\n",
    "cv.waitKey(60)\n"
   ]
  },
  {
   "cell_type": "code",
   "execution_count": null,
   "id": "6d70b870",
   "metadata": {},
   "outputs": [],
   "source": [
    "cv.destroyAllWindows()"
   ]
  },
  {
   "cell_type": "raw",
   "id": "c30b12ce",
   "metadata": {},
   "source": []
  },
  {
   "cell_type": "code",
   "execution_count": 7,
   "id": "82cf9796",
   "metadata": {},
   "outputs": [
    {
     "data": {
      "text/plain": [
       "-1"
      ]
     },
     "execution_count": 7,
     "metadata": {},
     "output_type": "execute_result"
    }
   ],
   "source": [
    "img=cv.imread(r\"C:\\Users\\jyotsnavi\\Downloads\\WhatsApp Image 2022-10-16 at 3.19.32 PM.jpeg\")\n",
    "cv.imshow('park',img)\n",
    "cv.waitKey(60)"
   ]
  },
  {
   "cell_type": "code",
   "execution_count": 95,
   "id": "680bbcf7",
   "metadata": {},
   "outputs": [
    {
     "data": {
      "text/plain": [
       "-1"
      ]
     },
     "execution_count": 95,
     "metadata": {},
     "output_type": "execute_result"
    }
   ],
   "source": [
    "#converting to gray\n",
    "gray=cv.cvtColor(img,cv.COLOR_BGR2GRAY)\n",
    "cv.imshow('gray',gray)\n",
    "cv.waitKey(60)"
   ]
  },
  {
   "cell_type": "code",
   "execution_count": 8,
   "id": "ac70a9ee",
   "metadata": {},
   "outputs": [
    {
     "data": {
      "text/plain": [
       "-1"
      ]
     },
     "execution_count": 8,
     "metadata": {},
     "output_type": "execute_result"
    }
   ],
   "source": [
    "#blur\n",
    "blur=cv.GaussianBlur(img,(5,5),cv.BORDER_DEFAULT)\n",
    "cv.imshow('blur',blur)\n",
    "cv.waitKey(60)"
   ]
  },
  {
   "cell_type": "code",
   "execution_count": null,
   "id": "28330969",
   "metadata": {},
   "outputs": [],
   "source": [
    "cv.destroyAllWindows()"
   ]
  },
  {
   "cell_type": "code",
   "execution_count": 9,
   "id": "ce11418b",
   "metadata": {},
   "outputs": [
    {
     "data": {
      "text/plain": [
       "-1"
      ]
     },
     "execution_count": 9,
     "metadata": {},
     "output_type": "execute_result"
    }
   ],
   "source": [
    "#edge cascade\n",
    "canny=cv.Canny(blur,125,175)\n",
    "cv.imshow('canny edges',canny)\n",
    "cv.waitKey(60)"
   ]
  },
  {
   "cell_type": "code",
   "execution_count": 10,
   "id": "4eb46edd",
   "metadata": {},
   "outputs": [
    {
     "data": {
      "text/plain": [
       "-1"
      ]
     },
     "execution_count": 10,
     "metadata": {},
     "output_type": "execute_result"
    }
   ],
   "source": [
    "#dialating the image\n",
    "dialaied=cv.dilate(canny,(7,7),iterations=3)\n",
    "cv.imshow('dilated',dialaied)\n",
    "cv.waitKey(60)"
   ]
  },
  {
   "cell_type": "code",
   "execution_count": null,
   "id": "1aee2836",
   "metadata": {},
   "outputs": [],
   "source": [
    "#eroding\n",
    "erode=cv.erode(dialaied,(7,7),iterations=3)\n",
    "cv.imshow('eroded',erode)\n",
    "cv.waitKey(60)"
   ]
  },
  {
   "cell_type": "code",
   "execution_count": null,
   "id": "95c48d13",
   "metadata": {},
   "outputs": [],
   "source": [
    "#resize\n",
    "resized=cv.resize(img\n",
    "                  ,(500,500)\n",
    "                  ,interpolation=cv.INTER_CUBIC)\n",
    "cv.imshow('resized',resized)\n",
    "cv.waitKey(60)\n"
   ]
  },
  {
   "cell_type": "code",
   "execution_count": null,
   "id": "16aeb337",
   "metadata": {},
   "outputs": [],
   "source": [
    "#cropping\n",
    "cropped=img[10:250,100:500]\n",
    "cv.imshow('cropped',cropped)\n",
    "cv.waitKey(60)"
   ]
  },
  {
   "cell_type": "code",
   "execution_count": 96,
   "id": "3a59a876",
   "metadata": {},
   "outputs": [
    {
     "ename": "error",
     "evalue": "OpenCV(4.6.0) :-1: error: (-5:Bad argument) in function 'imshow'\n> Overload resolution failed:\n>  - mat is not a numerical tuple\n>  - Expected Ptr<cv::cuda::GpuMat> for argument 'mat'\n>  - Expected Ptr<cv::UMat> for argument 'mat'\n",
     "output_type": "error",
     "traceback": [
      "\u001b[1;31m---------------------------------------------------------------------------\u001b[0m",
      "\u001b[1;31merror\u001b[0m                                     Traceback (most recent call last)",
      "\u001b[1;32mC:\\Users\\JYOTSN~1\\AppData\\Local\\Temp/ipykernel_11344/895833762.py\u001b[0m in \u001b[0;36m<module>\u001b[1;34m\u001b[0m\n\u001b[0;32m      1\u001b[0m \u001b[0mthresh\u001b[0m\u001b[1;33m=\u001b[0m\u001b[0mcv\u001b[0m\u001b[1;33m.\u001b[0m\u001b[0mthreshold\u001b[0m\u001b[1;33m(\u001b[0m\u001b[0mgray\u001b[0m\u001b[1;33m,\u001b[0m\u001b[1;36m125\u001b[0m\u001b[1;33m,\u001b[0m\u001b[1;36m255\u001b[0m\u001b[1;33m,\u001b[0m\u001b[0mcv\u001b[0m\u001b[1;33m.\u001b[0m\u001b[0mTHRESH_BINARY\u001b[0m\u001b[1;33m)\u001b[0m\u001b[1;33m\u001b[0m\u001b[1;33m\u001b[0m\u001b[0m\n\u001b[1;32m----> 2\u001b[1;33m \u001b[0mcv\u001b[0m\u001b[1;33m.\u001b[0m\u001b[0mimshow\u001b[0m\u001b[1;33m(\u001b[0m\u001b[1;34m'thresh'\u001b[0m\u001b[1;33m,\u001b[0m\u001b[0mthresh\u001b[0m\u001b[1;33m)\u001b[0m\u001b[1;33m\u001b[0m\u001b[1;33m\u001b[0m\u001b[0m\n\u001b[0m\u001b[0;32m      3\u001b[0m \u001b[0mcv\u001b[0m\u001b[1;33m.\u001b[0m\u001b[0mwaitKey\u001b[0m\u001b[1;33m(\u001b[0m\u001b[1;36m60\u001b[0m\u001b[1;33m)\u001b[0m\u001b[1;33m\u001b[0m\u001b[1;33m\u001b[0m\u001b[0m\n",
      "\u001b[1;31merror\u001b[0m: OpenCV(4.6.0) :-1: error: (-5:Bad argument) in function 'imshow'\n> Overload resolution failed:\n>  - mat is not a numerical tuple\n>  - Expected Ptr<cv::cuda::GpuMat> for argument 'mat'\n>  - Expected Ptr<cv::UMat> for argument 'mat'\n"
     ]
    }
   ],
   "source": [
    "#threshold\n",
    "thresh=cv.threshold(gray,125,255,cv.THRESH_BINARY)\n",
    "cv.imshow('thresh',thresh)\n",
    "cv.waitKey(60)\n"
   ]
  },
  {
   "cell_type": "code",
   "execution_count": 88,
   "id": "fdb5ed4a",
   "metadata": {},
   "outputs": [],
   "source": [
    "cv.destroyAllWindows()"
   ]
  },
  {
   "cell_type": "code",
   "execution_count": null,
   "id": "9a9e08aa",
   "metadata": {},
   "outputs": [],
   "source": [
    "#image translation\n",
    "#translation\n",
    "M = np.float32([[1, 0, 25], [0, 1, 50]])\n",
    "shifted = cv.warpAffine(img2, M, (img2.shape[1], img2.shape[0]))\n",
    "cv.imshow(\"Shifted Down and Right\", shifted)"
   ]
  },
  {
   "cell_type": "code",
   "execution_count": null,
   "id": "68c80063",
   "metadata": {},
   "outputs": [],
   "source": [
    "#rotation\n",
    "# def rotate(img,angle,rotPoint=None):\n",
    "#     (height,width)=img.shape[:2]\n",
    "#     if rotPoint is None:\n",
    "#         rotPoint=(width//2,height//2)\n",
    "        \n",
    "#     rotMat=cv.getRotationMatrix2D(rotPoint,angle=-45,scale=1)\n",
    "#     dimensions=(width,height)\n",
    "#     return cv.wrapAffine(img,rotMat,dimensions)\n",
    "# rotated=rotate(img,angle=-45)\n",
    "# cv.imshow('rotated',rotated)\n",
    "# cv.waitKey(60)"
   ]
  },
  {
   "cell_type": "code",
   "execution_count": null,
   "id": "5f1b9997",
   "metadata": {},
   "outputs": [],
   "source": [
    "height,width=img.shape[:2]\n",
    "center=(width/2,height/2)\n",
    "rotate_matrix=cv.getRotationMatrix2D(center=center,angle=-90,scale=1)\n",
    "rotated_image=cv.wrapAffine(src=img,m=rotate_matrix,dsize=(width,height))\n",
    "cv.imshow('rotated image',rotated_image)\n",
    "cv.imwrite('rotated_image.jpg',rotated_image)"
   ]
  },
  {
   "cell_type": "code",
   "execution_count": null,
   "id": "772298ba",
   "metadata": {},
   "outputs": [],
   "source": [
    "def rotate(img, angle, center = None, scale = 1.0):\n",
    "    (h, w) = img.shape[:2]\n",
    "\n",
    "    if center is None:\n",
    "        center = (w / 2, h / 2)\n",
    "\n",
    "    # Perform the rotation\n",
    "    M = cv2.getRotationMatrix2D(center, angle, scale)\n",
    "    rotated = cv2.warpAffine(img, M, (w, h))\n",
    "\n",
    "    return rotated\n",
    "cv.imshow('rotated',rotated)"
   ]
  },
  {
   "cell_type": "code",
   "execution_count": 90,
   "id": "9e413788",
   "metadata": {},
   "outputs": [
    {
     "data": {
      "text/plain": [
       "-1"
      ]
     },
     "execution_count": 90,
     "metadata": {},
     "output_type": "execute_result"
    }
   ],
   "source": [
    "#flipping\n",
    "flip=cv.flip(img,-1)\n",
    "cv.imshow('flip',flip)\n",
    "cv.waitKey(60)"
   ]
  },
  {
   "cell_type": "code",
   "execution_count": 18,
   "id": "9ae48c79",
   "metadata": {},
   "outputs": [],
   "source": [
    "cv.destroyAllWindows()"
   ]
  },
  {
   "cell_type": "code",
   "execution_count": 13,
   "id": "6b63f087",
   "metadata": {},
   "outputs": [
    {
     "name": "stdout",
     "output_type": "stream",
     "text": [
      "83 contour(s) found!\n"
     ]
    }
   ],
   "source": [
    "contours,hierarchies=cv.findContours(canny,cv.RETR_LIST,cv.CHAIN_APPROX_SIMPLE)\n",
    "print(f'{len(contours)} contour(s) found!')"
   ]
  },
  {
   "cell_type": "code",
   "execution_count": 17,
   "id": "7fa9ca38",
   "metadata": {},
   "outputs": [
    {
     "data": {
      "text/plain": [
       "-1"
      ]
     },
     "execution_count": 17,
     "metadata": {},
     "output_type": "execute_result"
    }
   ],
   "source": [
    "cv.drawContours(blank,contours,-1,(0,255,0),1)\n",
    "cv.imshow('contours Drawn',blank)\n",
    "cv.waitKey(60)"
   ]
  },
  {
   "cell_type": "code",
   "execution_count": 10,
   "id": "f3967e65",
   "metadata": {},
   "outputs": [
    {
     "data": {
      "text/plain": [
       "-1"
      ]
     },
     "execution_count": 10,
     "metadata": {},
     "output_type": "execute_result"
    }
   ],
   "source": [
    "#color spaces\n",
    "img=cv.imread(r\"C:\\Users\\jyotsnavi\\Pictures\\josh\\tv-show-friends-chandler-bing-courteney-cox-david-schwimmer-hd-wallpaper-preview.jpg\")\n",
    "cv.imshow('park',img)\n",
    "cv.waitKey(60)"
   ]
  },
  {
   "cell_type": "code",
   "execution_count": 14,
   "id": "3c8754ca",
   "metadata": {},
   "outputs": [
    {
     "data": {
      "image/png": "[encoded data removed]",
      "text/plain": [
       "<Figure size 432x288 with 1 Axes>"
      ]
     },
     "metadata": {
      "needs_background": "light"
     },
     "output_type": "display_data"
    },
    {
     "data": {
      "text/plain": [
       "-1"
      ]
     },
     "execution_count": 14,
     "metadata": {},
     "output_type": "execute_result"
    }
   ],
   "source": [
    "plt.imshow(hsv)\n",
    "plt.show()\n",
    "cv.waitKey(60)"
   ]
  },
  {
   "cell_type": "code",
   "execution_count": 12,
   "id": "fb755ac4",
   "metadata": {},
   "outputs": [
    {
     "data": {
      "text/plain": [
       "-1"
      ]
     },
     "execution_count": 12,
     "metadata": {},
     "output_type": "execute_result"
    }
   ],
   "source": [
    "#bgr to grayscale\n",
    "gray=cv.cvtColor(img,cv.COLOR_BGR2GRAY)\n",
    "cv.imshow('gray',gray)\n",
    "cv.waitKey(60)"
   ]
  },
  {
   "cell_type": "code",
   "execution_count": 13,
   "id": "705e0ccf",
   "metadata": {},
   "outputs": [
    {
     "data": {
      "text/plain": [
       "-1"
      ]
     },
     "execution_count": 13,
     "metadata": {},
     "output_type": "execute_result"
    }
   ],
   "source": [
    "#bgr to hsv\n",
    "hsv=cv.cvtColor(img,cv.COLOR_BGR2HSV)\n",
    "cv.imshow('hsv',hsv)\n",
    "cv.waitKey(60)"
   ]
  },
  {
   "cell_type": "code",
   "execution_count": 16,
   "id": "c8141584",
   "metadata": {},
   "outputs": [
    {
     "data": {
      "text/plain": [
       "-1"
      ]
     },
     "execution_count": 16,
     "metadata": {},
     "output_type": "execute_result"
    }
   ],
   "source": [
    "#bgr to lab\n",
    "lab=cv.cvtColor(img,cv.COLOR_BGR2LAB)\n",
    "cv.imshow('lab',lab)\n",
    "cv.waitKey(60)"
   ]
  },
  {
   "cell_type": "code",
   "execution_count": 17,
   "id": "9dccb59e",
   "metadata": {},
   "outputs": [
    {
     "data": {
      "text/plain": [
       "-1"
      ]
     },
     "execution_count": 17,
     "metadata": {},
     "output_type": "execute_result"
    }
   ],
   "source": [
    "#rgb to bgr\n",
    "rgb=cv.cvtColor(img,cv.COLOR_BGR2RGB)\n",
    "cv.imshow('rgb',rgb)\n",
    "cv.waitKey(60)"
   ]
  },
  {
   "cell_type": "code",
   "execution_count": 20,
   "id": "3f0b63f1",
   "metadata": {},
   "outputs": [
    {
     "data": {
      "text/plain": [
       "-1"
      ]
     },
     "execution_count": 20,
     "metadata": {},
     "output_type": "execute_result"
    }
   ],
   "source": [
    "blank=np.zeros(img.shape[:2],dtype='uint8')\n",
    "b,g,r=cv.split(img)\n",
    "blue=cv.merge([b,blank,blank])\n",
    "green=cv.merge([blank,g,blank])\n",
    "red=cv.merge([blank,blank,r])\n",
    "cv.imshow('blue',blue)\n",
    "cv.waitKey(60)\n",
    "cv.imshow('green',green)\n",
    "cv.waitKey(60)\n",
    "cv.imshow('red',red)\n",
    "cv.waitKey(60)"
   ]
  },
  {
   "cell_type": "code",
   "execution_count": 21,
   "id": "9eb6fa24",
   "metadata": {},
   "outputs": [
    {
     "name": "stdout",
     "output_type": "stream",
     "text": [
      "(546, 728, 3)\n",
      "(546, 728)\n",
      "(546, 728)\n",
      "(546, 728)\n"
     ]
    }
   ],
   "source": [
    "print(img.shape)\n",
    "print(b.shape)\n",
    "print(g.shape)\n",
    "print(r.shape)\n"
   ]
  },
  {
   "cell_type": "code",
   "execution_count": 22,
   "id": "e1ac66bf",
   "metadata": {},
   "outputs": [
    {
     "data": {
      "text/plain": [
       "-1"
      ]
     },
     "execution_count": 22,
     "metadata": {},
     "output_type": "execute_result"
    }
   ],
   "source": [
    "merged=cv.merge([b,g,r])\n",
    "cv.imshow('merged image',merged)\n",
    "cv.waitKey(60)"
   ]
  },
  {
   "cell_type": "code",
   "execution_count": 23,
   "id": "311e02b8",
   "metadata": {},
   "outputs": [],
   "source": [
    "cv.destroyAllWindows()"
   ]
  },
  {
   "cell_type": "code",
   "execution_count": 24,
   "id": "a7da1b5f",
   "metadata": {},
   "outputs": [
    {
     "data": {
      "text/plain": [
       "-1"
      ]
     },
     "execution_count": 24,
     "metadata": {},
     "output_type": "execute_result"
    }
   ],
   "source": [
    "img2=cv.imread(r\"C:\\Users\\jyotsnavi\\Pictures\\josh\\f61211e728a482f9db43e841ebe8a01e.jpg\")\n",
    "cv.imshow('mj',img2)\n",
    "cv.waitKey(60)"
   ]
  },
  {
   "cell_type": "code",
   "execution_count": 25,
   "id": "237ee3bb",
   "metadata": {},
   "outputs": [
    {
     "data": {
      "text/plain": [
       "-1"
      ]
     },
     "execution_count": 25,
     "metadata": {},
     "output_type": "execute_result"
    }
   ],
   "source": [
    "#blur\n",
    "blur=cv.GaussianBlur(img2,(5,5),cv.BORDER_DEFAULT)\n",
    "cv.imshow('blur',blur)\n",
    "cv.waitKey(60)"
   ]
  },
  {
   "cell_type": "code",
   "execution_count": 26,
   "id": "0842db27",
   "metadata": {},
   "outputs": [
    {
     "data": {
      "text/plain": [
       "-1"
      ]
     },
     "execution_count": 26,
     "metadata": {},
     "output_type": "execute_result"
    }
   ],
   "source": [
    "#averaging\n",
    "average=cv.blur(img,(10,10))\n",
    "cv.imshow('blur',average)\n",
    "cv.waitKey(60)"
   ]
  },
  {
   "cell_type": "code",
   "execution_count": 30,
   "id": "04136f65",
   "metadata": {},
   "outputs": [
    {
     "data": {
      "text/plain": [
       "-1"
      ]
     },
     "execution_count": 30,
     "metadata": {},
     "output_type": "execute_result"
    }
   ],
   "source": [
    "#median blur\n",
    "median=cv.medianBlur(img,5)\n",
    "cv.imshow('Median blur',median)\n",
    "cv.waitKey(60)"
   ]
  },
  {
   "cell_type": "code",
   "execution_count": 32,
   "id": "5190bd97",
   "metadata": {},
   "outputs": [
    {
     "data": {
      "text/plain": [
       "-1"
      ]
     },
     "execution_count": 32,
     "metadata": {},
     "output_type": "execute_result"
    }
   ],
   "source": [
    "#bilateral\n",
    "bilateral=cv.bilateralFilter(img,10,35,25)\n",
    "cv.imshow('bilateral',bilateral)\n",
    "cv.waitKey(60)"
   ]
  },
  {
   "cell_type": "code",
   "execution_count": 43,
   "id": "56035411",
   "metadata": {},
   "outputs": [],
   "source": [
    "cv.destroyAllWindows()"
   ]
  },
  {
   "cell_type": "code",
   "execution_count": 35,
   "id": "fb674900",
   "metadata": {},
   "outputs": [
    {
     "data": {
      "text/plain": [
       "-1"
      ]
     },
     "execution_count": 35,
     "metadata": {},
     "output_type": "execute_result"
    }
   ],
   "source": [
    "blank=np.zeros((400,400),dtype='uint8')\n",
    "rectangle=cv.rectangle(blank.copy(),(30,30),(370,370)\n",
    "                      ,255,-1)\n",
    "circle=cv.circle(blank.copy(),(200,200),200,255,-1)\n",
    "cv.imshow('rectangle',rectangle)\n",
    "cv.imshow('circle',circle)\n",
    "cv.waitKey(60)"
   ]
  },
  {
   "cell_type": "code",
   "execution_count": 37,
   "id": "b5217456",
   "metadata": {},
   "outputs": [
    {
     "data": {
      "text/plain": [
       "-1"
      ]
     },
     "execution_count": 37,
     "metadata": {},
     "output_type": "execute_result"
    }
   ],
   "source": [
    "#bitwise AND --->intersecting regions\n",
    "bitwise_and=cv.bitwise_and(rectangle,circle)\n",
    "cv.imshow('bitwise AND',bitwise_and)\n",
    "cv.waitKey(60)"
   ]
  },
  {
   "cell_type": "code",
   "execution_count": 38,
   "id": "6371ce64",
   "metadata": {},
   "outputs": [
    {
     "data": {
      "text/plain": [
       "-1"
      ]
     },
     "execution_count": 38,
     "metadata": {},
     "output_type": "execute_result"
    }
   ],
   "source": [
    "#bitwise or--> non-intersecting and intersectimg\n",
    "bitwise_or=cv.bitwise_or(rectangle,circle)\n",
    "cv.imshow('bitwise OR',bitwise_or)\n",
    "cv.waitKey(60)"
   ]
  },
  {
   "cell_type": "code",
   "execution_count": 39,
   "id": "77a65e8e",
   "metadata": {},
   "outputs": [
    {
     "data": {
      "text/plain": [
       "-1"
      ]
     },
     "execution_count": 39,
     "metadata": {},
     "output_type": "execute_result"
    }
   ],
   "source": [
    "#bitwise XOR-->non-intersecting regions\n",
    "bitwise_xor=cv.bitwise_xor(rectangle,circle)\n",
    "cv.imshow('bitwise xor',bitwise_xor)\n",
    "cv.waitKey(60)\n"
   ]
  },
  {
   "cell_type": "code",
   "execution_count": 41,
   "id": "2fa09e10",
   "metadata": {},
   "outputs": [
    {
     "data": {
      "text/plain": [
       "-1"
      ]
     },
     "execution_count": 41,
     "metadata": {},
     "output_type": "execute_result"
    }
   ],
   "source": [
    "#bitwise NOT\n",
    "bitwise_not=cv.bitwise_not(rectangle,circle)\n",
    "cv.imshow('bitwise not',bitwise_not)\n",
    "cv.waitKey(60)"
   ]
  },
  {
   "cell_type": "code",
   "execution_count": 22,
   "id": "3f3f6401",
   "metadata": {},
   "outputs": [
    {
     "data": {
      "text/plain": [
       "-1"
      ]
     },
     "execution_count": 22,
     "metadata": {},
     "output_type": "execute_result"
    }
   ],
   "source": [
    "img=cv.imread(r\"C:\\Users\\jyotsnavi\\Pictures\\Screenshot 2022-10-26 122031.png\")\n",
    "cv.imshow('cats',img)\n",
    "cv.waitKey(60)\n"
   ]
  },
  {
   "cell_type": "code",
   "execution_count": 23,
   "id": "0dcc297d",
   "metadata": {},
   "outputs": [
    {
     "data": {
      "text/plain": [
       "-1"
      ]
     },
     "execution_count": 23,
     "metadata": {},
     "output_type": "execute_result"
    }
   ],
   "source": [
    "resized=cv.resize(img\n",
    "                  ,(\n",
    "    500,400)\n",
    "                  ,interpolation=cv.INTER_CUBIC)\n",
    "cv.imshow('resized',resized)\n",
    "cv.waitKey(60)"
   ]
  },
  {
   "cell_type": "code",
   "execution_count": 24,
   "id": "e9225d0c",
   "metadata": {},
   "outputs": [
    {
     "data": {
      "text/plain": [
       "-1"
      ]
     },
     "execution_count": 24,
     "metadata": {},
     "output_type": "execute_result"
    }
   ],
   "source": [
    "blank=np.zeros(img.shape[:2],dtype='uint8')\n",
    "cv.imshow('blank image',blank)\n",
    "cv.waitKey(60)"
   ]
  },
  {
   "cell_type": "code",
   "execution_count": 25,
   "id": "2daefca2",
   "metadata": {},
   "outputs": [
    {
     "data": {
      "text/plain": [
       "-1"
      ]
     },
     "execution_count": 25,
     "metadata": {},
     "output_type": "execute_result"
    }
   ],
   "source": [
    "circle=cv.circle(blank.copy()\n",
    "                ,(img.shape[1]//1+45\n",
    "                 ,img.shape[0]//2)\n",
    "                ,100,255,-1)\n",
    "cv.imshow('circle',circle)\n",
    "cv.waitKey(60)\n",
    "rectangle=cv.rectangle(blank.copy()\n",
    "                      ,(30,30)\n",
    "                      ,(370,370),255,-1)\n",
    "cv.imshow('rectangle',rectangle)\n",
    "cv.waitKey(60)\n"
   ]
  },
  {
   "cell_type": "code",
   "execution_count": 26,
   "id": "4fb6e81c",
   "metadata": {},
   "outputs": [
    {
     "data": {
      "text/plain": [
       "-1"
      ]
     },
     "execution_count": 26,
     "metadata": {},
     "output_type": "execute_result"
    }
   ],
   "source": [
    "mask=cv.bitwise_and(circle,rectangle)\n",
    "cv.imshow('mask',mask)\n",
    "cv.waitKey(60)"
   ]
  },
  {
   "cell_type": "code",
   "execution_count": 27,
   "id": "9d027deb",
   "metadata": {},
   "outputs": [
    {
     "data": {
      "text/plain": [
       "-1"
      ]
     },
     "execution_count": 27,
     "metadata": {},
     "output_type": "execute_result"
    }
   ],
   "source": [
    "masked=cv.bitwise_and(img,img,mask=mask)\n",
    "cv.imshow('masked image',masked)\n",
    "cv.waitKey(60)"
   ]
  },
  {
   "cell_type": "code",
   "execution_count": 55,
   "id": "7135d720",
   "metadata": {},
   "outputs": [],
   "source": [
    "cv.destroyAllWindows()"
   ]
  },
  {
   "cell_type": "code",
   "execution_count": 29,
   "id": "438e2782",
   "metadata": {},
   "outputs": [
    {
     "data": {
      "text/plain": [
       "-1"
      ]
     },
     "execution_count": 29,
     "metadata": {},
     "output_type": "execute_result"
    }
   ],
   "source": [
    "img=cv.imread(r\"C:\\Users\\jyotsnavi\\Pictures\\Screenshot 2022-10-26 122031.png\")\n",
    "cv.imshow('cats',img)\n",
    "cv.waitKey(60)"
   ]
  },
  {
   "cell_type": "code",
   "execution_count": 30,
   "id": "934ac97a",
   "metadata": {},
   "outputs": [
    {
     "data": {
      "text/plain": [
       "-1"
      ]
     },
     "execution_count": 30,
     "metadata": {},
     "output_type": "execute_result"
    }
   ],
   "source": [
    "resized=cv.resize(img\n",
    "                  ,(\n",
    "    500,400)\n",
    "                  ,interpolation=cv.INTER_CUBIC)\n",
    "cv.imshow('resized',resized)\n",
    "cv.waitKey(60)"
   ]
  },
  {
   "cell_type": "code",
   "execution_count": 41,
   "id": "4aa404f1",
   "metadata": {},
   "outputs": [
    {
     "data": {
      "text/plain": [
       "-1"
      ]
     },
     "execution_count": 41,
     "metadata": {},
     "output_type": "execute_result"
    }
   ],
   "source": [
    "#converting to gray\n",
    "resized=cv.cvtColor(resized,cv.COLOR_BGR2GRAY)\n",
    "cv.imshow('gray',resized)\n",
    "cv.waitKey(60)"
   ]
  },
  {
   "cell_type": "code",
   "execution_count": 42,
   "id": "a57acee9",
   "metadata": {},
   "outputs": [
    {
     "ename": "NameError",
     "evalue": "name 'gray' is not defined",
     "output_type": "error",
     "traceback": [
      "\u001b[1;31m---------------------------------------------------------------------------\u001b[0m",
      "\u001b[1;31mNameError\u001b[0m                                 Traceback (most recent call last)",
      "\u001b[1;32mC:\\Users\\JYOTSN~1\\AppData\\Local\\Temp/ipykernel_17032/2360390405.py\u001b[0m in \u001b[0;36m<module>\u001b[1;34m\u001b[0m\n\u001b[0;32m      1\u001b[0m \u001b[1;31m#grayscale histogram\u001b[0m\u001b[1;33m\u001b[0m\u001b[1;33m\u001b[0m\u001b[0m\n\u001b[1;32m----> 2\u001b[1;33m gray_hist=cv.calcHist([gray]\n\u001b[0m\u001b[0;32m      3\u001b[0m                      \u001b[1;33m,\u001b[0m\u001b[1;33m[\u001b[0m\u001b[1;36m0\u001b[0m\u001b[1;33m]\u001b[0m\u001b[1;33m\u001b[0m\u001b[1;33m\u001b[0m\u001b[0m\n\u001b[0;32m      4\u001b[0m                      \u001b[1;33m,\u001b[0m\u001b[0mmask\u001b[0m\u001b[1;33m\u001b[0m\u001b[1;33m\u001b[0m\u001b[0m\n\u001b[0;32m      5\u001b[0m                      \u001b[1;33m,\u001b[0m\u001b[1;33m[\u001b[0m\u001b[1;36m256\u001b[0m\u001b[1;33m]\u001b[0m\u001b[1;33m\u001b[0m\u001b[1;33m\u001b[0m\u001b[0m\n",
      "\u001b[1;31mNameError\u001b[0m: name 'gray' is not defined"
     ]
    }
   ],
   "source": [
    "#grayscale histogram\n",
    "gray_hist=cv.calcHist([gray]\n",
    "                     ,[0]\n",
    "                     ,mask\n",
    "                     ,[256]\n",
    "                     ,[0,256])\n",
    "plt.figure()\n",
    "plt.title('grayscale Histogram')\n",
    "plt.xlabel('bins')\n",
    "plt.ylabel('# of pixels')\n",
    "plt.plot(gray_hist)\n",
    "plt.xlim([0,256])"
   ]
  },
  {
   "cell_type": "code",
   "execution_count": 43,
   "id": "48a55eae",
   "metadata": {},
   "outputs": [
    {
     "data": {
      "image/png": "[encoded data removed]",
      "text/plain": [
       "<Figure size 432x288 with 1 Axes>"
      ]
     },
     "metadata": {
      "needs_background": "light"
     },
     "output_type": "display_data"
    }
   ],
   "source": [
    "#color Histogram\n",
    "plt.figure()\n",
    "plt.title('Colour Histogram')\n",
    "plt.xlabel('bins')\n",
    "plt.ylabel('# of pixels')\n",
    "colors=('b','g','r')\n",
    "for i,col in enumerate(colors):\n",
    "    hist=cv.calcHist([img],[i],mask,[256],[0,256])\n",
    "    plt.plot(hist,color=col)\n",
    "    plt.xlim([0,256])\n",
    "plt.show()"
   ]
  },
  {
   "cell_type": "code",
   "execution_count": 44,
   "id": "970c39c2",
   "metadata": {},
   "outputs": [
    {
     "data": {
      "text/plain": [
       "-1"
      ]
     },
     "execution_count": 44,
     "metadata": {},
     "output_type": "execute_result"
    }
   ],
   "source": [
    "#thresholding\n",
    "threshold,thresh=cv.threshold(resized,\n",
    "                              150,\n",
    "                              255,\n",
    "                              cv.THRESH_BINARY)\n",
    "cv.imshow('simple Thresholded',thresh)\n",
    "cv.waitKey(60 )"
   ]
  },
  {
   "cell_type": "code",
   "execution_count": 45,
   "id": "36ba8cac",
   "metadata": {},
   "outputs": [
    {
     "data": {
      "text/plain": [
       "-1"
      ]
     },
     "execution_count": 45,
     "metadata": {},
     "output_type": "execute_result"
    }
   ],
   "source": [
    "threshold,thresh_inv=cv.threshold(resized\n",
    "                                 ,150,255\n",
    "                                 ,cv.THRESH_BINARY_INV)\n",
    "cv.imshow('simple Threshold Inverse',thresh_inv)\n",
    "cv.waitKey(60)"
   ]
  },
  {
   "cell_type": "code",
   "execution_count": 46,
   "id": "1ed3d698",
   "metadata": {},
   "outputs": [
    {
     "data": {
      "text/plain": [
       "-1"
      ]
     },
     "execution_count": 46,
     "metadata": {},
     "output_type": "execute_result"
    }
   ],
   "source": [
    "#adaptive threshold\n",
    "adaptive_thresh=cv.adaptiveThreshold(resized\n",
    "                                    ,255.\n",
    "                                    ,cv.ADAPTIVE_THRESH_GAUSSIAN_C\n",
    "                                    ,cv.THRESH_BINARY_INV,11,9)\n",
    "cv.imshow('adaptive threshold ',adaptive_thresh)\n",
    "cv.waitKey(60)"
   ]
  },
  {
   "cell_type": "code",
   "execution_count": 51,
   "id": "543d9c8b",
   "metadata": {},
   "outputs": [
    {
     "data": {
      "text/plain": [
       "-1"
      ]
     },
     "execution_count": 51,
     "metadata": {},
     "output_type": "execute_result"
    }
   ],
   "source": [
    "#sobel\n",
    "sobelx=cv.Sobel(resized,cv.CV_64F,1,0)\n",
    "sobely=cv.Sobel(resized,cv.CV_64F,0,1)\n",
    "combined_sobel=cv.bitwise_or(sobelx,sobely)\n",
    "cv.imshow('Sobel x',sobelx)\n",
    "cv.imshow('sobel y',sobely)\n",
    "cv.imshow('combined sobel',combined_sobel)\n",
    "cv.waitKey(60)\n"
   ]
  },
  {
   "cell_type": "code",
   "execution_count": 53,
   "id": "39fdf248",
   "metadata": {},
   "outputs": [
    {
     "data": {
      "text/plain": [
       "-1"
      ]
     },
     "execution_count": 53,
     "metadata": {},
     "output_type": "execute_result"
    }
   ],
   "source": [
    "#laplacian\n",
    "lap=cv.Laplacian(resized,cv.CV_64F)\n",
    "lap=np.uint8(np.absolute(lap))\n",
    "cv.imshow('laplacian',lap)\n",
    "cv.waitKey(60)"
   ]
  },
  {
   "cell_type": "code",
   "execution_count": 54,
   "id": "48203c55",
   "metadata": {},
   "outputs": [
    {
     "data": {
      "text/plain": [
       "-1"
      ]
     },
     "execution_count": 54,
     "metadata": {},
     "output_type": "execute_result"
    }
   ],
   "source": [
    "canny=cv.Canny(resized,150,175)\n",
    "cv.imshow('canny',canny)\n",
    "cv.waitKey(60)"
   ]
  }
 ],
 "metadata": {
  "kernelspec": {
   "display_name": "Python 3 (ipykernel)",
   "language": "python",
   "name": "python3"
  },
  "language_info": {
   "codemirror_mode": {
    "name": "ipython",
    "version": 3
   },
   "file_extension": ".py",
   "mimetype": "text/x-python",
   "name": "python",
   "nbconvert_exporter": "python",
   "pygments_lexer": "ipython3",
   "version": "3.9.7"
  }
 },
 "nbformat": 4,
 "nbformat_minor": 5
}
